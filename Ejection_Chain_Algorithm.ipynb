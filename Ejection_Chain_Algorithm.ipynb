{
 "cells": [
  {
   "cell_type": "code",
   "execution_count": null,
   "metadata": {},
   "outputs": [],
   "source": [
    "import numpy as np\n",
    "\n",
    "def ejection_chain(initial_solution, weights, max_iterations=100):\n",
    "    n = len(initial_solution)\n",
    "    current_solution = initial_solution.copy()\n",
    "    best_solution = initial_solution.copy()\n",
    "    best_score = np.sum(weights * (current_solution @ current_solution.T))\n",
    "\n",
    "    for _ in range(max_iterations):\n",
    "        for i in range(n):\n",
    "            best_local_score = np.sum(weights * (current_solution @ current_solution.T))\n",
    "            best_local_solution = current_solution.copy()\n",
    "\n",
    "            # Try ejecting vertex i and inserting into another cluster\n",
    "            for j in range(n):\n",
    "                if i != j and current_solution[i] != current_solution[j]:\n",
    "                    # Perform the ejection and calculate the score\n",
    "                    modified_solution = current_solution.copy()\n",
    "                    modified_solution[i] = current_solution[j]  # Move i to the cluster of j\n",
    "                    score = np.sum(weights * (modified_solution @ modified_solution.T))\n",
    "\n",
    "                    # Update the best local solution if improved\n",
    "                    if score > best_local_score:\n",
    "                        best_local_score = score\n",
    "                        best_local_solution = modified_solution\n",
    "\n",
    "            # Update current solution to the best local move\n",
    "            current_solution = best_local_solution\n",
    "\n",
    "        # Check if the new solution is the best global solution\n",
    "        current_score = np.sum(weights * (current_solution @ current_solution.T))\n",
    "        if current_score > best_score:\n",
    "            best_score = current_score\n",
    "            best_solution = current_solution\n",
    "        else:\n",
    "            break  # Terminate if no improvement\n",
    "\n",
    "    return best_solution, best_score\n",
    "\n",
    "# Example usage:\n",
    "n = 5  # Number of nodes\n",
    "weights = np.random.randn(n, n)  # Random symmetric weights matrix\n",
    "initial_solution = np.random.choice([0, 1, 2], size=n)  # Initial random assignment to 3 clusters\n",
    "\n",
    "solution, score = ejection_chain(initial_solution, weights)\n",
    "print(\"Best Solution:\", solution)\n",
    "print(\"Best Score:\", score)\n"
   ]
  }
 ],
 "metadata": {
  "language_info": {
   "name": "python"
  }
 },
 "nbformat": 4,
 "nbformat_minor": 2
}
